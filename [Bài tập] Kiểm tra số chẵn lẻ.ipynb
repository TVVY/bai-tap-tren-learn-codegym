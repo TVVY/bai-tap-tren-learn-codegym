{
 "cells": [
  {
   "cell_type": "code",
   "execution_count": 5,
   "id": "3ab5d8a8",
   "metadata": {},
   "outputs": [
    {
     "name": "stdout",
     "output_type": "stream",
     "text": [
      "Nhập số bất kì: 1.4\n",
      "Số 1.4 không phải số tự nhiên\n"
     ]
    }
   ],
   "source": [
    "n = float(input(\"Nhập số bất kì: \"))\n",
    "if n % 2 == 0:\n",
    "    print(f\"Số {n} là số chẵn\")\n",
    "elif n % 2 == 1:\n",
    "    print(f\"Số {n} là số lẻ\")\n",
    "else:\n",
    "    print(f\"Số {n} không phải số tự nhiên\")"
   ]
  },
  {
   "cell_type": "code",
   "execution_count": null,
   "id": "9fbbf3df",
   "metadata": {},
   "outputs": [],
   "source": []
  }
 ],
 "metadata": {
  "kernelspec": {
   "display_name": "Python 3 (ipykernel)",
   "language": "python",
   "name": "python3"
  },
  "language_info": {
   "codemirror_mode": {
    "name": "ipython",
    "version": 3
   },
   "file_extension": ".py",
   "mimetype": "text/x-python",
   "name": "python",
   "nbconvert_exporter": "python",
   "pygments_lexer": "ipython3",
   "version": "3.9.12"
  }
 },
 "nbformat": 4,
 "nbformat_minor": 5
}
