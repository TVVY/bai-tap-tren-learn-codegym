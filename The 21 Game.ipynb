{
 "cells": [
  {
   "cell_type": "code",
   "execution_count": null,
   "id": "439412d8",
   "metadata": {},
   "outputs": [],
   "source": [
    "import random\n",
    "\n",
    "gia_tri_toi_da = 21\n",
    "\n",
    "while True:\n",
    "    nguoi_choi_hien_tai = random.randint(0,1) # 0: người, 1: máy\n",
    "    gia_tri_hien_tai = 0\n",
    "    \n",
    "    while gia_tri_hien_tai <= gia_tri_toi_da:\n",
    "        if nguoi_choi_hien_tai == 0: # người\n",
    "            print('Đến lượt của bạn.')\n",
    "            gia_tri_nhap = 0\n",
    "            while not (gia_tri_nhap >= 1 and gia_tri_nhap <= 3):\n",
    "                try:\n",
    "                    gia_tri_nhap = int(input('Chọn một giá trị bất kỳ từ 1 đến 3: '))\n",
    "                except ValueError:\n",
    "                    gia_tri_nhap = 0\n",
    "            gia_tri_hien_tai += gia_tri_nhap\n",
    "            if gia_tri_hien_tai >= gia_tri_toi_da:\n",
    "                print(f'Rất tiếc, bạn đã thua ở lượt chơi này. Giá trị hiện tại là {gia_tri_hien_tai}.')\n",
    "                break\n",
    "            nguoi_choi_hien_tai = 1 # lượt kế đến máy\n",
    "        else: # máy\n",
    "            gia_tri_nhap = random.randint(1, 3)\n",
    "            print('Đến lượt của máy.')\n",
    "            print(f'Máy vừa chọn giá trị {gia_tri_nhap}.')\n",
    "            gia_tri_hien_tai += gia_tri_nhap\n",
    "            if gia_tri_hien_tai >= gia_tri_toi_da:\n",
    "                print(f'Chúc mừng bạn. Bạn đã chiến thắng. Giá trị hiện tại là {gia_tri_hien_tai}.')\n",
    "                break\n",
    "            nguoi_choi_hien_tai = 0 # lượt kế đến máy\n",
    "    \n",
    "    choi_tiep = input('Bạn muốn chơi tiếp không? Bấm phím \"\"k\"\" (không) để dừng, ngược lại bấm phím bất kỳ:\\n')\n",
    "    if(choi_tiep == 'k'):\n",
    "        break\n",
    "\n",
    "\n",
    "\n",
    "\n"
   ]
  },
  {
   "cell_type": "code",
   "execution_count": null,
   "id": "5f926985",
   "metadata": {},
   "outputs": [],
   "source": []
  }
 ],
 "metadata": {
  "kernelspec": {
   "display_name": "Python 3 (ipykernel)",
   "language": "python",
   "name": "python3"
  },
  "language_info": {
   "codemirror_mode": {
    "name": "ipython",
    "version": 3
   },
   "file_extension": ".py",
   "mimetype": "text/x-python",
   "name": "python",
   "nbconvert_exporter": "python",
   "pygments_lexer": "ipython3",
   "version": "3.9.12"
  }
 },
 "nbformat": 4,
 "nbformat_minor": 5
}
