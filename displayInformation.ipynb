{
 "cells": [
  {
   "cell_type": "code",
   "execution_count": 1,
   "id": "aeae7684",
   "metadata": {},
   "outputs": [
    {
     "name": "stdout",
     "output_type": "stream",
     "text": [
      "Ho va Ten : Ta Van Vy\n",
      "Ngay Sinh : 21/02/1999\n",
      "Dia Chi   :20 nguyen chanh ngo 43/99/32\n",
      "Muc Dich  :Mong Muon kiem viec lam nghe lap trinh\n"
     ]
    }
   ],
   "source": [
    "print(\"Ho va Ten : Ta Van Vy\")\n",
    "print(\"Ngay Sinh : 21/02/1999\")\n",
    "print(\"Dia Chi   :20 nguyen chanh ngo 43/99/32\")\n",
    "print(\"Muc Dich  :Mong Muon kiem viec lam nghe lap trinh\")"
   ]
  },
  {
   "cell_type": "code",
   "execution_count": null,
   "id": "c47e5467",
   "metadata": {},
   "outputs": [],
   "source": []
  }
 ],
 "metadata": {
  "kernelspec": {
   "display_name": "Python 3 (ipykernel)",
   "language": "python",
   "name": "python3"
  },
  "language_info": {
   "codemirror_mode": {
    "name": "ipython",
    "version": 3
   },
   "file_extension": ".py",
   "mimetype": "text/x-python",
   "name": "python",
   "nbconvert_exporter": "python",
   "pygments_lexer": "ipython3",
   "version": "3.9.12"
  }
 },
 "nbformat": 4,
 "nbformat_minor": 5
}
