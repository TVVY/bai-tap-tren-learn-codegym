{
 "cells": [
  {
   "cell_type": "code",
   "execution_count": null,
   "id": "62fc5d4e",
   "metadata": {},
   "outputs": [],
   "source": [
    "while True:\n",
    "    phan_tu = int(input('Nhập số của phần tử list: '))\n",
    "    if phan_tu <= 2:\n",
    "        print('Nhập số phần tử không đúng, phần tử phải lớn hơn 2. vui lòng nhập lại.')\n",
    "    else:\n",
    "        break\n",
    "ilist = []\n",
    "for gia_tri in range (phan_tu):\n",
    "    value = int(input('Nhập giá trị vào list: '))\n",
    "    ilist.append(value)\n",
    "ilist.sort(reverse= False)\n",
    "print(ilist)\n",
    "a = ilist[-1]\n",
    "b = ilist[-2]\n",
    "print(f'Phần tử có chỉ số -1 và -2 theo list tăng dần là {a} và {b}')\n",
    "ilist.sort(reverse= True)\n",
    "print(ilist)\n",
    "c = ilist[0]\n",
    "d = ilist[1]\n",
    "print(f'Phần tử có chỉ số 0 và 1 theo list giảm dần là {c} và {d}')"
   ]
  }
 ],
 "metadata": {
  "kernelspec": {
   "display_name": "Python 3 (ipykernel)",
   "language": "python",
   "name": "python3"
  },
  "language_info": {
   "codemirror_mode": {
    "name": "ipython",
    "version": 3
   },
   "file_extension": ".py",
   "mimetype": "text/x-python",
   "name": "python",
   "nbconvert_exporter": "python",
   "pygments_lexer": "ipython3",
   "version": "3.9.12"
  }
 },
 "nbformat": 4,
 "nbformat_minor": 5
}
