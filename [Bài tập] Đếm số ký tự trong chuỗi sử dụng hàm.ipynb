{
 "cells": [
  {
   "cell_type": "code",
   "execution_count": null,
   "id": "8d177b48",
   "metadata": {},
   "outputs": [],
   "source": [
    "def ki_tu(txt):\n",
    "    so_ki_tu = 0\n",
    "    for i in txt:\n",
    "        so_ki_tu += 1\n",
    "    return so_ki_tu\n",
    "nhap_chuoi = input('Nhập bất kì vào chuỗi: ')\n",
    "print('Số kí tự trong chuỗi: ', ki_tu(nhap_chuoi))"
   ]
  }
 ],
 "metadata": {
  "kernelspec": {
   "display_name": "Python 3 (ipykernel)",
   "language": "python",
   "name": "python3"
  },
  "language_info": {
   "codemirror_mode": {
    "name": "ipython",
    "version": 3
   },
   "file_extension": ".py",
   "mimetype": "text/x-python",
   "name": "python",
   "nbconvert_exporter": "python",
   "pygments_lexer": "ipython3",
   "version": "3.9.12"
  }
 },
 "nbformat": 4,
 "nbformat_minor": 5
}
