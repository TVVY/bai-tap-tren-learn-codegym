{
 "cells": [
  {
   "cell_type": "code",
   "execution_count": null,
   "id": "4aea5658",
   "metadata": {},
   "outputs": [],
   "source": [
    "list_san = [5,7,2,5,11,6,8,123,35,99]\n",
    "def tim_gia_tri_nho_nhat(list_san):\n",
    "    so_nho_nhat_list = list_san[0]\n",
    "    for so in list_san:\n",
    "        if so_nho_nhat_list > so:\n",
    "            so_nho_nhat_list = so\n",
    "    return so_nho_nhat_list\n",
    "tim_gia_tri_nho_nhat(list_san)\n",
    "print(f'Số nhỏ nhất trong {list_san} là: {tim_gia_tri_nho_nhat(list_san)}')"
   ]
  }
 ],
 "metadata": {
  "kernelspec": {
   "display_name": "Python 3 (ipykernel)",
   "language": "python",
   "name": "python3"
  },
  "language_info": {
   "codemirror_mode": {
    "name": "ipython",
    "version": 3
   },
   "file_extension": ".py",
   "mimetype": "text/x-python",
   "name": "python",
   "nbconvert_exporter": "python",
   "pygments_lexer": "ipython3",
   "version": "3.9.12"
  }
 },
 "nbformat": 4,
 "nbformat_minor": 5
}
