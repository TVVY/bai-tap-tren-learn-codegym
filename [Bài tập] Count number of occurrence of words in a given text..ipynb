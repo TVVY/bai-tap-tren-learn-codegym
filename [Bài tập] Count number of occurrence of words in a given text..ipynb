{
 "cells": [
  {
   "cell_type": "code",
   "execution_count": null,
   "id": "a8fa9d74",
   "metadata": {},
   "outputs": [],
   "source": [
    "def dem_ki_tu(chuoi):\n",
    "    tach_chuoi = chuoi.split()\n",
    "    text_tam = {}\n",
    "    for text in tach_chuoi:\n",
    "        thuong = text.lower()\n",
    "        if thuong not in text_tam:\n",
    "            text_tam[thuong] = 1\n",
    "        else:\n",
    "            text_tam[thuong] += 1\n",
    "    for key, value in text_tam.items():\n",
    "        print(f'{key}: {value}')\n",
    "dem_ki_tu(chuoi = input(\"nhập văn bản cần đếm: \"))"
   ]
  }
 ],
 "metadata": {
  "kernelspec": {
   "display_name": "Python 3 (ipykernel)",
   "language": "python",
   "name": "python3"
  },
  "language_info": {
   "codemirror_mode": {
    "name": "ipython",
    "version": 3
   },
   "file_extension": ".py",
   "mimetype": "text/x-python",
   "name": "python",
   "nbconvert_exporter": "python",
   "pygments_lexer": "ipython3",
   "version": "3.9.12"
  }
 },
 "nbformat": 4,
 "nbformat_minor": 5
}
