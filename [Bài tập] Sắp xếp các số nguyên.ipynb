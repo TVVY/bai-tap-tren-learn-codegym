{
 "cells": [
  {
   "cell_type": "code",
   "execution_count": null,
   "id": "f8e4efdf",
   "metadata": {},
   "outputs": [],
   "source": [
    "def sap_xep_thu_tu(so1, so2, so3):\n",
    "    so_lon = max(so1, so2, so3)\n",
    "    so_nho = min(so1, so2, so3)\n",
    "    so_con_lai = so1 + so2 + so3 - so_lon - so_nho\n",
    "    return (so_nho, so_con_lai, so_lon)\n",
    "x = int(input(\"Nhập số bất kì : \"))\n",
    "y = int(input(\"Nhập số bất kì : \"))\n",
    "z = int(input(\"Nhập số bất kì : \"))\n",
    "b, c, d = sap_xep_thu_tu(x, y, z)\n",
    "print(\"Số Ban Đầu: \", x, y, z)\n",
    "print(\"Số sau khi sắp xếp: \", b, c, d) "
   ]
  },
  {
   "cell_type": "code",
   "execution_count": null,
   "id": "5277a1c2",
   "metadata": {},
   "outputs": [],
   "source": []
  }
 ],
 "metadata": {
  "kernelspec": {
   "display_name": "Python 3 (ipykernel)",
   "language": "python",
   "name": "python3"
  },
  "language_info": {
   "codemirror_mode": {
    "name": "ipython",
    "version": 3
   },
   "file_extension": ".py",
   "mimetype": "text/x-python",
   "name": "python",
   "nbconvert_exporter": "python",
   "pygments_lexer": "ipython3",
   "version": "3.9.12"
  }
 },
 "nbformat": 4,
 "nbformat_minor": 5
}
