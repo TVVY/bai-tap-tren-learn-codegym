{
 "cells": [
  {
   "cell_type": "code",
   "execution_count": 21,
   "id": "8528f178",
   "metadata": {},
   "outputs": [
    {
     "name": "stdout",
     "output_type": "stream",
     "text": [
      "nhấp số bất kì từ 1 đến 10: 11\n",
      "Nhập sai số từ 1-10 xin mời nhập lại\n"
     ]
    }
   ],
   "source": [
    "a = int(input(\"nhấp số bất kì từ 1 đến 10: \"))\n",
    "\n",
    "if a>10:\n",
    "    print(\"Nhập sai số từ 1-10 xin mời nhập lại\")\n",
    "else:\n",
    "    for i in range(1,10):\n",
    "        print(str(a) + ' x ' + str(i) + ' = ' + str(a*i))\n"
   ]
  },
  {
   "cell_type": "code",
   "execution_count": null,
   "id": "00ae0a91",
   "metadata": {},
   "outputs": [],
   "source": []
  }
 ],
 "metadata": {
  "kernelspec": {
   "display_name": "Python 3 (ipykernel)",
   "language": "python",
   "name": "python3"
  },
  "language_info": {
   "codemirror_mode": {
    "name": "ipython",
    "version": 3
   },
   "file_extension": ".py",
   "mimetype": "text/x-python",
   "name": "python",
   "nbconvert_exporter": "python",
   "pygments_lexer": "ipython3",
   "version": "3.9.12"
  }
 },
 "nbformat": 4,
 "nbformat_minor": 5
}
