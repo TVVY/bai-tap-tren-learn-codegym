{
 "cells": [
  {
   "cell_type": "code",
   "execution_count": 3,
   "id": "f541b3e1",
   "metadata": {},
   "outputs": [
    {
     "name": "stdout",
     "output_type": "stream",
     "text": [
      "Nhập từ cần dịch: America\n",
      "America : Mỹ\n"
     ]
    }
   ],
   "source": [
    "translated_word ={    \n",
    "'VietNam' : 'Việt Nam',\n",
    "'England'  : 'Anh',\n",
    "'ThaiLand'  : 'Thái Lan',\n",
    "'India' : 'Ấn Độ',\n",
    "'Singapore' : 'Singapore',\n",
    "'China' : 'Trung Quốc',\n",
    "'Japan' : 'Nhật Bản',\n",
    "'Combodia' : 'Campuchia',\n",
    "'Cuba'  : 'Cu Ba',\n",
    "'France'  : 'Pháp',\n",
    "'America' : 'Mỹ',\n",
    "'Canada' : 'Canada',\n",
    "'Russia' : 'Nga',\n",
    "'Australia' : 'Úc',\n",
    "'Greece' : 'Hy Lạp',\n",
    "'Denmark' : 'Đan Mạch',\n",
    "'Spain' : 'Tây Ban Nha',\n",
    "'Sweden' : 'Thụy Điển',\n",
    "'Switzerland' : 'Thụy Sỹ',\n",
    "'Turkey' : 'Thổ Nhĩ Kỳ',\n",
    "'Germany' : 'Đức',\n",
    "'Mexico' : 'Mexico',\n",
    "'Brazil' : 'Braxin',\n",
    "'Italy' : 'Italy',\n",
    "'Korea' : 'Hàn Quốc',\n",
    "'Portugal' : 'Bồ Đào Nha',\n",
    "'Poland' : 'Ba Lan',\n",
    "}\n",
    "def country_name(country):\n",
    "    for key, value in translated_word.items():\n",
    "        if country == key:\n",
    "            print(key,':', value)\n",
    "    if country not in translated_word:\n",
    "        print(\"Từ cần dịch không có trong từ điển\")\n",
    "\n",
    "country = input(\"Nhập từ cần dịch: \")\n",
    "country_name(country)"
   ]
  },
  {
   "cell_type": "code",
   "execution_count": null,
   "id": "838bfb72",
   "metadata": {},
   "outputs": [],
   "source": []
  }
 ],
 "metadata": {
  "kernelspec": {
   "display_name": "Python 3 (ipykernel)",
   "language": "python",
   "name": "python3"
  },
  "language_info": {
   "codemirror_mode": {
    "name": "ipython",
    "version": 3
   },
   "file_extension": ".py",
   "mimetype": "text/x-python",
   "name": "python",
   "nbconvert_exporter": "python",
   "pygments_lexer": "ipython3",
   "version": "3.9.12"
  }
 },
 "nbformat": 4,
 "nbformat_minor": 5
}
