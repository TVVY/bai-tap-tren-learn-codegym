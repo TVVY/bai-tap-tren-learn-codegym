{
 "cells": [
  {
   "cell_type": "code",
   "execution_count": null,
   "id": "2ac9018a",
   "metadata": {},
   "outputs": [],
   "source": [
    "can_nang = float(input(\"Xin mời nhập số cân nặng(kg): \"))\n",
    "chieu_cao = float(input(\"Xin mời nhập số chiều cao(m): \"))\n",
    "m = can_nang/(chieu_cao * chieu_cao)\n",
    "print(m)\n",
    "if m > 40:\n",
    "    print('Béo phì cấp độ III')\n",
    "elif 35 <= m < 40:\n",
    "    print('Béo phì cấp độ II')\n",
    "elif 30 <= m < 35:\n",
    "    print('Béo phì cấp độ I')\n",
    "elif 25 <= m < 30:\n",
    "    print('Thừa cân ')\n",
    "elif 18.5 <= m < 25:\n",
    "    print(\"Bình Thường\")\n",
    "elif 17 <= m < 18.5:\n",
    "    print(\"Gầy cấp độ I\")\n",
    "elif 16 <= m < 17:\n",
    "    print(\"Gầy cấp độ II\")\n",
    "else:\n",
    "    print(\"Gầy cấp độ III\")"
   ]
  },
  {
   "cell_type": "code",
   "execution_count": null,
   "id": "d4616a1f",
   "metadata": {},
   "outputs": [],
   "source": []
  }
 ],
 "metadata": {
  "kernelspec": {
   "display_name": "Python 3 (ipykernel)",
   "language": "python",
   "name": "python3"
  },
  "language_info": {
   "codemirror_mode": {
    "name": "ipython",
    "version": 3
   },
   "file_extension": ".py",
   "mimetype": "text/x-python",
   "name": "python",
   "nbconvert_exporter": "python",
   "pygments_lexer": "ipython3",
   "version": "3.9.12"
  }
 },
 "nbformat": 4,
 "nbformat_minor": 5
}
