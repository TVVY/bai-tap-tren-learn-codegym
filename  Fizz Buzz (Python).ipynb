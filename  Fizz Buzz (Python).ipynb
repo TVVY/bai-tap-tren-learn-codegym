{
 "cells": [
  {
   "cell_type": "code",
   "execution_count": null,
   "id": "182f4b5d",
   "metadata": {},
   "outputs": [],
   "source": [
    "so1 = int(input(\"Nhập số bất kì: \"))\n",
    "so2 = int(input(\"Nhập số bất kì: \"))\n",
    "if so2<so1:\n",
    "    print(\"số kết thúc cần lớn hơn số bắt đầu\")\n",
    "else:\n",
    "    for i in range(so1, so2+1):\n",
    "        if i%3==0 and i%5==0 :\n",
    "            print(\"FizzBuzz\")\n",
    "        elif i%3==0:\n",
    "            print(\"Fizz\")\n",
    "        elif i%5==0:\n",
    "            print(\"Buzz\")\n",
    "        else:\n",
    "            print(i)"
   ]
  },
  {
   "cell_type": "code",
   "execution_count": null,
   "id": "3cd180e1",
   "metadata": {},
   "outputs": [],
   "source": []
  },
  {
   "cell_type": "code",
   "execution_count": null,
   "id": "43558861",
   "metadata": {},
   "outputs": [],
   "source": []
  }
 ],
 "metadata": {
  "kernelspec": {
   "display_name": "Python 3 (ipykernel)",
   "language": "python",
   "name": "python3"
  },
  "language_info": {
   "codemirror_mode": {
    "name": "ipython",
    "version": 3
   },
   "file_extension": ".py",
   "mimetype": "text/x-python",
   "name": "python",
   "nbconvert_exporter": "python",
   "pygments_lexer": "ipython3",
   "version": "3.9.12"
  }
 },
 "nbformat": 4,
 "nbformat_minor": 5
}
