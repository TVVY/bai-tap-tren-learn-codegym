{
 "cells": [
  {
   "cell_type": "code",
   "execution_count": 4,
   "id": "e519d598",
   "metadata": {},
   "outputs": [
    {
     "name": "stdout",
     "output_type": "stream",
     "text": [
      "Bạn đã chi bao nhiêu tiền tại cửa hàng: 65\n",
      "Bạn không được giảm giá \n",
      "Số tiền bạn cần thanh toán là: 65\n"
     ]
    }
   ],
   "source": [
    "n = int(input(\"Bạn đã chi bao nhiêu tiền tại cửa hàng: \"))\n",
    "if n >= 150:\n",
    "    print(f\"Bạn sẽ được giảm giá 50$ \\nSố tiền bạn cần thanh toán là: {n-50}\")\n",
    "elif n >= 100:\n",
    "    print(f\"Bạn sẽ được giảm giá 25$ \\nSố tiền bạn cần thanh toán là: {n-25}\")\n",
    "elif n >= 75:\n",
    "    print(f\"Bạn sẽ được giảm giá 15$ \\nSố tiền bạn cần thanh toán là: {n-15}\")\n",
    "else:\n",
    "    print(f\"Bạn không được giảm giá \\nSố tiền bạn cần thanh toán là: {n}\")\n"
   ]
  },
  {
   "cell_type": "code",
   "execution_count": null,
   "id": "4fa339fd",
   "metadata": {},
   "outputs": [],
   "source": []
  }
 ],
 "metadata": {
  "kernelspec": {
   "display_name": "Python 3 (ipykernel)",
   "language": "python",
   "name": "python3"
  },
  "language_info": {
   "codemirror_mode": {
    "name": "ipython",
    "version": 3
   },
   "file_extension": ".py",
   "mimetype": "text/x-python",
   "name": "python",
   "nbconvert_exporter": "python",
   "pygments_lexer": "ipython3",
   "version": "3.9.12"
  }
 },
 "nbformat": 4,
 "nbformat_minor": 5
}
