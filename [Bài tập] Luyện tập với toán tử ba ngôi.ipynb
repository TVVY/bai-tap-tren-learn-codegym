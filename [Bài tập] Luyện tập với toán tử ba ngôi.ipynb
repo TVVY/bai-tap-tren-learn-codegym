{
 "cells": [
  {
   "cell_type": "code",
   "execution_count": null,
   "id": "16473711",
   "metadata": {},
   "outputs": [],
   "source": [
    "n = int(input(\"Nhập vào số bất kì: \"))\n",
    "if n%2 == 0:\n",
    "    print(f\"Số {n} là số chẵn\")\n",
    "else:\n",
    "    print(f\"Số {n} là số lẻ\")"
   ]
  }
 ],
 "metadata": {
  "kernelspec": {
   "display_name": "Python 3 (ipykernel)",
   "language": "python",
   "name": "python3"
  },
  "language_info": {
   "codemirror_mode": {
    "name": "ipython",
    "version": 3
   },
   "file_extension": ".py",
   "mimetype": "text/x-python",
   "name": "python",
   "nbconvert_exporter": "python",
   "pygments_lexer": "ipython3",
   "version": "3.9.12"
  }
 },
 "nbformat": 4,
 "nbformat_minor": 5
}
