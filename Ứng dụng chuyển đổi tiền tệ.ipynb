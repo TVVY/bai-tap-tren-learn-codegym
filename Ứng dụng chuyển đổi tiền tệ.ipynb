{
 "cells": [
  {
   "cell_type": "code",
   "execution_count": 11,
   "id": "67702889",
   "metadata": {},
   "outputs": [
    {
     "name": "stdout",
     "output_type": "stream",
     "text": [
      "Nhập số USD cần đổi là :100\n",
      "Nhập tỉ giá USD/VND :23500\n",
      "Số tiền đổi từ USD ra VND là: 2350000 VND\n"
     ]
    }
   ],
   "source": [
    "USD = int(input('Nhập số USD cần đổi là :'))\n",
    "VND = int(input('Nhập tỉ giá USD/VND :'))\n",
    "print('Số tiền đổi từ USD ra VND là:' ,(USD*VND),'VND')"
   ]
  },
  {
   "cell_type": "code",
   "execution_count": null,
   "id": "4c4e95b9",
   "metadata": {},
   "outputs": [],
   "source": []
  },
  {
   "cell_type": "code",
   "execution_count": null,
   "id": "713ea107",
   "metadata": {},
   "outputs": [],
   "source": []
  },
  {
   "cell_type": "code",
   "execution_count": null,
   "id": "0cf3f6fb",
   "metadata": {},
   "outputs": [],
   "source": []
  }
 ],
 "metadata": {
  "kernelspec": {
   "display_name": "Python 3 (ipykernel)",
   "language": "python",
   "name": "python3"
  },
  "language_info": {
   "codemirror_mode": {
    "name": "ipython",
    "version": 3
   },
   "file_extension": ".py",
   "mimetype": "text/x-python",
   "name": "python",
   "nbconvert_exporter": "python",
   "pygments_lexer": "ipython3",
   "version": "3.9.12"
  }
 },
 "nbformat": 4,
 "nbformat_minor": 5
}
