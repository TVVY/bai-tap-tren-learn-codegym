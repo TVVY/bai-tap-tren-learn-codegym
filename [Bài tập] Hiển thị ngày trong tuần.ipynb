{
 "cells": [
  {
   "cell_type": "code",
   "execution_count": null,
   "id": "683aada1",
   "metadata": {},
   "outputs": [],
   "source": [
    "n = int(input(\"Nhập một só từ 1 - 7: \"))\n",
    "if n == 1:\n",
    "    print(\"Monday\")\n",
    "elif n == 2:\n",
    "\tprint(\"Tuesday\")\n",
    "elif n == 3:\n",
    "\tprint(\"Wednesday\")\n",
    "elif n == 4:\n",
    "\tprint(\"Thursday\")\n",
    "elif n == 5:\n",
    "\tprint(\"Friday\")\n",
    "elif n == 6:\n",
    "\tprint(\"Saturday\")\n",
    "elif n == 7:\n",
    "\tprint(\"Sunday\")\n",
    "else:\n",
    "    print(\"Yêu cầu nhập đúng số từ 1 - 7 \\n Xin mời nhập lại\")"
   ]
  }
 ],
 "metadata": {
  "kernelspec": {
   "display_name": "Python 3 (ipykernel)",
   "language": "python",
   "name": "python3"
  },
  "language_info": {
   "codemirror_mode": {
    "name": "ipython",
    "version": 3
   },
   "file_extension": ".py",
   "mimetype": "text/x-python",
   "name": "python",
   "nbconvert_exporter": "python",
   "pygments_lexer": "ipython3",
   "version": "3.9.12"
  }
 },
 "nbformat": 4,
 "nbformat_minor": 5
}
